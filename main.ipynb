{
 "cells": [
  {
   "cell_type": "code",
   "execution_count": 1,
   "metadata": {},
   "outputs": [],
   "source": [
    "import sqlite3\n",
    "import ipywidgets as widgets\n",
    "import backend\n",
    "\n",
    "from IPython.display import display, Markdown, clear_output\n",
    "import ipywidgets as widgets\n",
    "import datetime\n",
    "import matplotlib.pyplot as plt"
   ]
  },
  {
   "cell_type": "code",
   "execution_count": 2,
   "metadata": {},
   "outputs": [],
   "source": [
    "path_to_db = 'tasks.db'"
   ]
  },
  {
   "cell_type": "markdown",
   "metadata": {},
   "source": [
    "# Show by date"
   ]
  },
  {
   "cell_type": "code",
   "execution_count": 10,
   "metadata": {},
   "outputs": [
    {
     "data": {
      "application/vnd.jupyter.widget-view+json": {
       "model_id": "9794750356d5414aa51672204d92592c",
       "version_major": 2,
       "version_minor": 0
      },
      "text/plain": [
       "VBox(children=(HBox(children=(DatePicker(value=datetime.date(2022, 3, 27), description='Date:', style=Descript…"
      ]
     },
     "metadata": {},
     "output_type": "display_data"
    }
   ],
   "source": [
    "tododate = widgets.DatePicker(\n",
    "    description='Date:',\n",
    "    disabled=False,\n",
    "    value=datetime.datetime.now().date(),\n",
    "    style={'description_width': 'initial'}\n",
    ")\n",
    "    \n",
    "button = widgets.Button(description='Show')\n",
    "out = widgets.Output()\n",
    "def on_button_clicked(_):\n",
    "      with out:\n",
    "        out.clear_output()\n",
    "        selected = tododate.value\n",
    "        print(selected)\n",
    "        result = backend.select_by_day(selected,path_to_db)\n",
    "        backend.show_items(result)\n",
    "        \n",
    "        labels = ['Done', 'Pending']\n",
    "        total_done=0\n",
    "        for it in result:\n",
    "            total_done += it[4]\n",
    "        sizes = [total_done, len(result)-total_done]\n",
    "        explode = (0, 0.2)\n",
    "\n",
    "        plt.pie(sizes, explode=explode, labels=labels, autopct='%1.1f%%',\n",
    "                shadow=True, startangle=90)\n",
    "        plt.show()\n",
    "\n",
    "button.on_click(on_button_clicked)\n",
    "thisbox = widgets.VBox([widgets.HBox([tododate, button]), out])\n",
    "display(thisbox)\n"
   ]
  },
  {
   "cell_type": "markdown",
   "metadata": {},
   "source": [
    "# New item"
   ]
  },
  {
   "cell_type": "code",
   "execution_count": 7,
   "metadata": {},
   "outputs": [
    {
     "data": {
      "application/vnd.jupyter.widget-view+json": {
       "model_id": "9675ce82e2274d10a2109f84f24149b0",
       "version_major": 2,
       "version_minor": 0
      },
      "text/plain": [
       "VBox(children=(HBox(children=(Text(value='Make breakfast', description='New todo:'), Button(description='Add',…"
      ]
     },
     "metadata": {},
     "output_type": "display_data"
    }
   ],
   "source": [
    "text = widgets.Text(\n",
    "       value='Make breakfast',\n",
    "       description='New todo:', )\n",
    "\n",
    "button_add = widgets.Button(description='Add')\n",
    "out = widgets.Output()\n",
    "def on_button_clicked(_):\n",
    "      with out:\n",
    "          out.clear_output()\n",
    "          backend.insert_task(text.value,path_to_db)\n",
    "          print(f'Item added! {text.value}')\n",
    "\n",
    "button_add.on_click(on_button_clicked)\n",
    "thisbox = widgets.VBox([widgets.HBox([text, button_add]), out])\n",
    "display(thisbox)"
   ]
  },
  {
   "cell_type": "markdown",
   "metadata": {},
   "source": [
    "# Mark as done"
   ]
  },
  {
   "cell_type": "code",
   "execution_count": 9,
   "metadata": {},
   "outputs": [
    {
     "data": {
      "application/vnd.jupyter.widget-view+json": {
       "model_id": "c04d502ff82d4eba9358bc233c034419",
       "version_major": 2,
       "version_minor": 0
      },
      "text/plain": [
       "VBox(children=(HBox(children=(Dropdown(description='Todo items:', layout=Layout(width='max-content'), options=…"
      ]
     },
     "metadata": {},
     "output_type": "display_data"
    }
   ],
   "source": [
    "unfinished_tsk = backend.select_unfinished_tasks(path_to_db)\n",
    "available_items = widgets.Dropdown(\n",
    "    options=[(it[1], it[0]) for it in unfinished_tsk\n",
    "            ],\n",
    "    description='Todo items:',\n",
    "    style={'description_width': 'initial'},\n",
    "     layout={'width': 'max-content'}\n",
    ")\n",
    "out = widgets.Output()\n",
    "button_done = widgets.Button(description='Done!')\n",
    "def on_button_done_clicked(_):\n",
    "      with out:\n",
    "        out.clear_output()\n",
    "        selected = available_items.value\n",
    "        backend.update_status(selected,path_to_db)\n",
    "        print(f\"Item {selected} done!\")\n",
    "        \n",
    "button_done.on_click(on_button_done_clicked)\n",
    "thisbox2 = widgets.VBox([widgets.HBox([available_items, button_done]), out])\n",
    "display(thisbox2)"
   ]
  },
  {
   "cell_type": "code",
   "execution_count": null,
   "metadata": {},
   "outputs": [],
   "source": []
  }
 ],
 "metadata": {
  "interpreter": {
   "hash": "8101725f145ed56906bc0f5cdfcc3fcc675711402ac59fd34e36c7764e59c570"
  },
  "kernelspec": {
   "display_name": "Python 3 (ipykernel)",
   "language": "python",
   "name": "python3"
  },
  "language_info": {
   "codemirror_mode": {
    "name": "ipython",
    "version": 3
   },
   "file_extension": ".py",
   "mimetype": "text/x-python",
   "name": "python",
   "nbconvert_exporter": "python",
   "pygments_lexer": "ipython3",
   "version": "3.9.10"
  }
 },
 "nbformat": 4,
 "nbformat_minor": 2
}
